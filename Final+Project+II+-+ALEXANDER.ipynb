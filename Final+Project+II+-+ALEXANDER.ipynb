{
 "cells": [
  {
   "cell_type": "markdown",
   "metadata": {},
   "source": [
    "# MOVING AVERAGE CROSSOVER TRADING S&P"
   ]
  },
  {
   "cell_type": "markdown",
   "metadata": {},
   "source": [
    "# PROJECT BACKGROUND:\n",
    "The idea behind trading crossovers is that a short-term moving average above a long-term moving average is an indicator of upward momentum in a stock, and the opposite is true about a short-term average trading below a long-term average. The most common is pair of moving averages are the 50-day SMA and the 200-day SMA.\n",
    "\n",
    "Since tecnical indicators are commonly believed to produce signals in the short term that are beneficial for trading and furthermore that there is little to no value in the long term to be gained from technical signal generation the question is:\n",
    "\n",
    "Will a shorter pair of moving averages generate trading sginals that will produce returns above that of the index as well as as the 50 and 200-day SMA crossover?  \n"
   ]
  },
  {
   "cell_type": "markdown",
   "metadata": {},
   "source": [
    "# HYPOTHESIS:\n",
    "Given that technical trading signals are short-term in nature, I belive that a pair of shorter SMA will provide trading signals that will out perform the benchmark index."
   ]
  },
  {
   "cell_type": "markdown",
   "metadata": {},
   "source": [
    "The most common time frames are 10, 20, 30, 50, 100 and 200 days. The overall idea is to show whether a stock, index, etc is trending upward or downward. Generally, a good candidate will have an increasing moving average that is sloping upward."
   ]
  },
  {
   "cell_type": "markdown",
   "metadata": {},
   "source": [
    "Does varying the length of the number of days in the moving averages in the model increase or decrease the accuracy of the prediction?\n",
    "\n",
    "What is the optimal moving average combination (15 and 20, 20 and 30, 30 and 50, etc) that produces the most accurate trading signals?"
   ]
  },
  {
   "cell_type": "markdown",
   "metadata": {},
   "source": [
    "# DATA:"
   ]
  },
  {
   "cell_type": "code",
   "execution_count": 6,
   "metadata": {
    "collapsed": false
   },
   "outputs": [
    {
     "name": "stdout",
     "output_type": "stream",
     "text": [
      "['Date', 'SPX', 'MOV_AVG_10D', 'MOV_AVG_20D', 'MOV_AVG_30D', 'MOV_AVG_50D', 'MOV_AVG_100D', 'MOV_AVG_200D']\n",
      "               SPX  MOV_AVG_10D  MOV_AVG_20D  MOV_AVG_30D  MOV_AVG_50D  \\\n",
      "count  2599.000000  2599.000000  2599.000000  2599.000000  2599.000000   \n",
      "mean   1541.795283  1540.139227  1538.342055  1536.520993  1532.802436   \n",
      "std     412.425301   410.533012   408.623842   406.699913   402.747810   \n",
      "min     676.530000   707.930000   736.970000   758.490000   788.960000   \n",
      "25%    1240.430000  1239.015000  1239.150000  1233.720000  1236.340000   \n",
      "50%    1443.690000  1443.490000  1439.790000  1435.640000  1429.730000   \n",
      "75%    1950.385000  1949.425000  1952.380000  1955.660000  1957.365000   \n",
      "max    2395.960000  2374.410000  2372.760000  2366.280000  2363.100000   \n",
      "\n",
      "       MOV_AVG_100D  MOV_AVG_200D  \n",
      "count   2599.000000   2599.000000  \n",
      "mean    1523.520654   1505.685387  \n",
      "std      393.432142    377.124381  \n",
      "min      827.990000    870.570000  \n",
      "25%     1231.165000   1257.190000  \n",
      "50%     1427.090000   1418.110000  \n",
      "75%     1957.125000   1899.130000  \n",
      "max     2318.310000   2240.460000  \n"
     ]
    }
   ],
   "source": [
    "import numpy as np\n",
    "import pandas as pd\n",
    "from pandas_datareader import data\n",
    "\n",
    "address = 'C:\\Users\\Jason Alexander\\Desktop\\Book1.csv'\n",
    "spx= pd.read_csv(address)\n",
    "\n",
    "print (list(spx.columns.values))\n",
    "print spx.describe()"
   ]
  },
  {
   "cell_type": "code",
   "execution_count": 7,
   "metadata": {
    "collapsed": false
   },
   "outputs": [
    {
     "name": "stdout",
     "output_type": "stream",
     "text": [
      "       Date      SPX  MOV_AVG_10D  MOV_AVG_20D  MOV_AVG_30D  MOV_AVG_50D  \\\n",
      "0  1/3/2007  1416.60      1420.40      1417.41      1410.84      1398.68   \n",
      "1  1/4/2007  1418.34      1419.99      1417.88      1411.41      1399.67   \n",
      "2  1/5/2007  1409.71      1418.40      1417.62      1411.72      1400.32   \n",
      "3  1/8/2007  1412.84      1417.33      1417.62      1412.06      1401.03   \n",
      "4  1/9/2007  1412.11      1416.71      1417.86      1412.26      1401.63   \n",
      "\n",
      "   MOV_AVG_100D  MOV_AVG_200D  \n",
      "0       1359.39       1318.81  \n",
      "1       1360.86       1319.37  \n",
      "2       1362.29       1319.93  \n",
      "3       1363.73       1320.47  \n",
      "4       1365.00       1321.03  \n",
      "           Date      SPX  MOV_AVG_10D  MOV_AVG_20D  MOV_AVG_30D  MOV_AVG_50D  \\\n",
      "2594  4/24/2017  2374.15      2349.29      2353.50      2356.99      2358.74   \n",
      "2595  4/25/2017  2388.61      2352.43      2355.85      2357.49      2360.19   \n",
      "2596  4/26/2017  2387.45      2355.80      2357.29      2358.22      2361.38   \n",
      "2597  4/27/2017  2388.77      2360.18      2358.67      2358.34      2362.40   \n",
      "2598  4/28/2017  2384.20      2365.71      2359.48      2358.44      2363.10   \n",
      "\n",
      "      MOV_AVG_100D  MOV_AVG_200D  \n",
      "2594       2310.68       2235.58  \n",
      "2595       2312.52       2236.87  \n",
      "2596       2314.41       2238.12  \n",
      "2597       2316.38       2239.30  \n",
      "2598       2318.31       2240.46  \n"
     ]
    }
   ],
   "source": [
    "print spx.head()\n",
    "print spx.tail()"
   ]
  },
  {
   "cell_type": "markdown",
   "metadata": {},
   "source": [
    "# DATA DICTIONARY:"
   ]
  },
  {
   "cell_type": "code",
   "execution_count": 26,
   "metadata": {
    "collapsed": false
   },
   "outputs": [
    {
     "name": "stdout",
     "output_type": "stream",
     "text": [
      "           NAME        TYPE                                        DESCRIPTION     SOURCE\n",
      "0           SPX  CONTINUOUS  Standard & Poor’s 500 stock index, which is ma...  BLOOMBERG\n",
      "1   MOV_AVG_10D  CONTINUOUS  A simple moving average is constructed by taki...  BLOOMBERG\n",
      "2   MOV_AVG_20D  CONTINUOUS  A simple moving average is constructed by taki...  BLOOMBERG\n",
      "3   MOV_AVG_30D  CONTINUOUS  A simple moving average is constructed by taki...  BLOOMBERG\n",
      "4   MOV_AVG_50D  CONTINUOUS  A simple moving average is constructed by taki...  BLOOMBERG\n",
      "5  MOV_AVG_100D  CONTINUOUS  A simple moving average is constructed by taki...  BLOOMBERG\n",
      "6  MOV_AVG_200D  CONTINUOUS  A simple moving average is constructed by taki...  BLOOMBERG\n"
     ]
    }
   ],
   "source": [
    "import numpy as np\n",
    "import pandas as pd\n",
    "from pandas_datareader import data\n",
    "\n",
    "dictionary = 'C:\\Users\\Jason Alexander\\Downloads\\DATA DICTIONARY_DRAFT.csv'\n",
    "dict= pd.read_csv(dictionary)\n",
    "\n",
    "#print (list(dict.columns.values))\n",
    "#print dict.describe()\n",
    "print(dict.to_string())"
   ]
  }
 ],
 "metadata": {
  "kernelspec": {
   "display_name": "Python 2",
   "language": "python",
   "name": "python2"
  },
  "language_info": {
   "codemirror_mode": {
    "name": "ipython",
    "version": 2
   },
   "file_extension": ".py",
   "mimetype": "text/x-python",
   "name": "python",
   "nbconvert_exporter": "python",
   "pygments_lexer": "ipython2",
   "version": "2.7.13"
  }
 },
 "nbformat": 4,
 "nbformat_minor": 2
}
